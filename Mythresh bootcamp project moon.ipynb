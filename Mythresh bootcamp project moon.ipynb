{
 "cells": [
  {
   "cell_type": "code",
   "execution_count": 45,
   "metadata": {},
   "outputs": [],
   "source": [
    "import pandas as pd\n",
    "import numpy as np\n",
    "import matplotlib.pyplot as plt\n",
    "from sklearn import datasets\n",
    "from sklearn import metrics\n",
    "from sklearn.cluster import KMeans"
   ]
  },
  {
   "cell_type": "code",
   "execution_count": 46,
   "metadata": {},
   "outputs": [],
   "source": [
    "data_ = datasets.make_moons(85)\n"
   ]
  },
  {
   "cell_type": "code",
   "execution_count": 47,
   "metadata": {
    "scrolled": true
   },
   "outputs": [
    {
     "data": {
      "text/plain": [
       "(array([[ 1.95557281e+00,  2.05244826e-01],\n",
       "        [ 1.56332006e+00, -3.26238774e-01],\n",
       "        [ 7.05244826e-01, -4.55572806e-01],\n",
       "        [-1.14683425e-01,  9.93402090e-01],\n",
       "        [ 2.64981502e-01,  9.64253495e-01],\n",
       "        [-9.97065801e-01,  7.65492528e-02],\n",
       "        [-5.43567550e-01,  8.39365426e-01],\n",
       "        [ 1.93087375e+00,  1.34658976e-01],\n",
       "        [ 3.38016878e-01,  9.41140048e-01],\n",
       "        [ 1.62348980e+00, -2.81831482e-01],\n",
       "        [-8.17929361e-01,  5.75318660e-01],\n",
       "        [-4.77719819e-01,  8.78512251e-01],\n",
       "        [-9.73695424e-01,  2.27853509e-01],\n",
       "        [ 1.14683425e-01,  9.93402090e-01],\n",
       "        [ 8.96165557e-01,  4.43719838e-01],\n",
       "        [ 2.50720878e-02,  2.77479066e-01],\n",
       "        [ 3.19827262e-01, -2.33051872e-01],\n",
       "        [ 2.00000000e+00,  5.00000000e-01],\n",
       "        [ 1.22252093e+00, -4.74927912e-01],\n",
       "        [ 9.27502451e-01,  3.73817072e-01],\n",
       "        [ 1.90391109e-01,  9.81708320e-01],\n",
       "        [-1.90391109e-01,  9.81708320e-01],\n",
       "        [-2.64981502e-01,  9.64253495e-01],\n",
       "        [ 2.66948128e-01, -1.80172738e-01],\n",
       "        [ 1.00000000e+00,  0.00000000e+00],\n",
       "        [-3.38016878e-01,  9.41140048e-01],\n",
       "        [ 1.36534102e+00, -4.30873749e-01],\n",
       "        [ 9.53396392e-01,  3.01720599e-01],\n",
       "        [ 2.18168518e-01, -1.23489802e-01],\n",
       "        [ 5.66116261e-01, -4.00968868e-01],\n",
       "        [ 6.34658976e-01, -4.30873749e-01],\n",
       "        [ 1.78183148e+00, -1.23489802e-01],\n",
       "        [ 2.79620282e-03,  4.25269906e-01],\n",
       "        [ 1.73305187e+00, -1.80172738e-01],\n",
       "        [ 1.73761226e-01, -6.33200581e-02],\n",
       "        [ 1.97492791e+00,  2.77479066e-01],\n",
       "        [ 7.77479066e-01, -4.74927912e-01],\n",
       "        [ 1.11691738e-02,  3.50957734e-01],\n",
       "        [-8.59569607e-01,  5.11018679e-01],\n",
       "        [-7.20521594e-01,  6.93432501e-01],\n",
       "        [ 7.71489180e-01,  6.36242442e-01],\n",
       "        [-3.83027337e-02,  9.99266181e-01],\n",
       "        [ 1.99720380e+00,  4.25269906e-01],\n",
       "        [ 5.43567550e-01,  8.39365426e-01],\n",
       "        [ 6.91262514e-02,  1.34658976e-01],\n",
       "        [-6.65325700e-01,  7.46553222e-01],\n",
       "        [-8.96165557e-01,  4.43719838e-01],\n",
       "        [-9.88280424e-01,  1.52649284e-01],\n",
       "        [ 1.07473009e+00, -4.97203797e-01],\n",
       "        [ 3.83027337e-02,  9.99266181e-01],\n",
       "        [ 1.82623877e+00, -6.33200581e-02],\n",
       "        [ 9.73695424e-01,  2.27853509e-01],\n",
       "        [ 4.77719819e-01,  8.78512251e-01],\n",
       "        [ 1.29475517e+00, -4.55572806e-01],\n",
       "        [ 1.33974596e-01,  0.00000000e+00],\n",
       "        [ 7.20521594e-01,  6.93432501e-01],\n",
       "        [ 3.76510198e-01, -2.81831482e-01],\n",
       "        [ 9.25269906e-01, -4.97203797e-01],\n",
       "        [-9.27502451e-01,  3.73817072e-01],\n",
       "        [-4.09068637e-01,  9.12503616e-01],\n",
       "        [ 8.50957734e-01, -4.88830826e-01],\n",
       "        [ 6.65325700e-01,  7.46553222e-01],\n",
       "        [ 1.14904227e+00, -4.88830826e-01],\n",
       "        [ 8.17929361e-01,  5.75318660e-01],\n",
       "        [ 1.00000000e+00, -5.00000000e-01],\n",
       "        [ 1.43388374e+00, -4.00968868e-01],\n",
       "        [ 5.00000000e-01, -3.66025404e-01],\n",
       "        [ 9.97065801e-01,  7.65492528e-02],\n",
       "        [ 4.09068637e-01,  9.12503616e-01],\n",
       "        [-6.06225411e-01,  7.95292871e-01],\n",
       "        [ 1.50000000e+00, -3.66025404e-01],\n",
       "        [ 4.44271942e-02,  2.05244826e-01],\n",
       "        [ 1.86602540e+00,  0.00000000e+00],\n",
       "        [ 1.98883083e+00,  3.50957734e-01],\n",
       "        [-9.53396392e-01,  3.01720599e-01],\n",
       "        [ 8.59569607e-01,  5.11018679e-01],\n",
       "        [ 1.90096887e+00,  6.61162609e-02],\n",
       "        [ 4.36679942e-01, -3.26238774e-01],\n",
       "        [-1.00000000e+00,  1.22464680e-16],\n",
       "        [ 9.88280424e-01,  1.52649284e-01],\n",
       "        [ 9.90311321e-02,  6.61162609e-02],\n",
       "        [-7.71489180e-01,  6.36242442e-01],\n",
       "        [ 0.00000000e+00,  5.00000000e-01],\n",
       "        [ 1.68017274e+00, -2.33051872e-01],\n",
       "        [ 6.06225411e-01,  7.95292871e-01]]),\n",
       " array([1, 1, 1, 0, 0, 0, 0, 1, 0, 1, 0, 0, 0, 0, 0, 1, 1, 1, 1, 0, 0, 0,\n",
       "        0, 1, 0, 0, 1, 0, 1, 1, 1, 1, 1, 1, 1, 1, 1, 1, 0, 0, 0, 0, 1, 0,\n",
       "        1, 0, 0, 0, 1, 0, 1, 0, 0, 1, 1, 0, 1, 1, 0, 0, 1, 0, 1, 0, 1, 1,\n",
       "        1, 0, 0, 0, 1, 1, 1, 1, 0, 0, 1, 1, 0, 0, 1, 0, 1, 1, 0],\n",
       "       dtype=int64))"
      ]
     },
     "execution_count": 47,
     "metadata": {},
     "output_type": "execute_result"
    }
   ],
   "source": [
    "data_"
   ]
  },
  {
   "cell_type": "code",
   "execution_count": 48,
   "metadata": {},
   "outputs": [],
   "source": [
    "inputData = pd.DataFrame(data = data_[0])"
   ]
  },
  {
   "cell_type": "code",
   "execution_count": 49,
   "metadata": {},
   "outputs": [
    {
     "data": {
      "text/html": [
       "<div>\n",
       "<style scoped>\n",
       "    .dataframe tbody tr th:only-of-type {\n",
       "        vertical-align: middle;\n",
       "    }\n",
       "\n",
       "    .dataframe tbody tr th {\n",
       "        vertical-align: top;\n",
       "    }\n",
       "\n",
       "    .dataframe thead th {\n",
       "        text-align: right;\n",
       "    }\n",
       "</style>\n",
       "<table border=\"1\" class=\"dataframe\">\n",
       "  <thead>\n",
       "    <tr style=\"text-align: right;\">\n",
       "      <th></th>\n",
       "      <th>0</th>\n",
       "      <th>1</th>\n",
       "    </tr>\n",
       "  </thead>\n",
       "  <tbody>\n",
       "    <tr>\n",
       "      <th>0</th>\n",
       "      <td>1.955573</td>\n",
       "      <td>0.205245</td>\n",
       "    </tr>\n",
       "    <tr>\n",
       "      <th>1</th>\n",
       "      <td>1.563320</td>\n",
       "      <td>-0.326239</td>\n",
       "    </tr>\n",
       "    <tr>\n",
       "      <th>2</th>\n",
       "      <td>0.705245</td>\n",
       "      <td>-0.455573</td>\n",
       "    </tr>\n",
       "    <tr>\n",
       "      <th>3</th>\n",
       "      <td>-0.114683</td>\n",
       "      <td>0.993402</td>\n",
       "    </tr>\n",
       "    <tr>\n",
       "      <th>4</th>\n",
       "      <td>0.264982</td>\n",
       "      <td>0.964253</td>\n",
       "    </tr>\n",
       "  </tbody>\n",
       "</table>\n",
       "</div>"
      ],
      "text/plain": [
       "          0         1\n",
       "0  1.955573  0.205245\n",
       "1  1.563320 -0.326239\n",
       "2  0.705245 -0.455573\n",
       "3 -0.114683  0.993402\n",
       "4  0.264982  0.964253"
      ]
     },
     "execution_count": 49,
     "metadata": {},
     "output_type": "execute_result"
    }
   ],
   "source": [
    "inputData.head()"
   ]
  },
  {
   "cell_type": "code",
   "execution_count": 50,
   "metadata": {},
   "outputs": [
    {
     "data": {
      "text/plain": [
       "<matplotlib.collections.PathCollection at 0x1a2dd67ca00>"
      ]
     },
     "execution_count": 50,
     "metadata": {},
     "output_type": "execute_result"
    },
    {
     "data": {
      "image/png": "[encoded data removed]",
      "text/plain": [
       "<Figure size 432x288 with 1 Axes>"
      ]
     },
     "metadata": {
      "needs_background": "light"
     },
     "output_type": "display_data"
    }
   ],
   "source": [
    "plt.scatter(inputData[0], inputData[1])\n"
   ]
  },
  {
   "cell_type": "code",
   "execution_count": 51,
   "metadata": {},
   "outputs": [],
   "source": [
    "outputData1 = pd.DataFrame(data = data_[1])\n"
   ]
  },
  {
   "cell_type": "code",
   "execution_count": 52,
   "metadata": {},
   "outputs": [
    {
     "data": {
      "text/html": [
       "<div>\n",
       "<style scoped>\n",
       "    .dataframe tbody tr th:only-of-type {\n",
       "        vertical-align: middle;\n",
       "    }\n",
       "\n",
       "    .dataframe tbody tr th {\n",
       "        vertical-align: top;\n",
       "    }\n",
       "\n",
       "    .dataframe thead th {\n",
       "        text-align: right;\n",
       "    }\n",
       "</style>\n",
       "<table border=\"1\" class=\"dataframe\">\n",
       "  <thead>\n",
       "    <tr style=\"text-align: right;\">\n",
       "      <th></th>\n",
       "      <th>0</th>\n",
       "    </tr>\n",
       "  </thead>\n",
       "  <tbody>\n",
       "    <tr>\n",
       "      <th>0</th>\n",
       "      <td>1</td>\n",
       "    </tr>\n",
       "    <tr>\n",
       "      <th>1</th>\n",
       "      <td>1</td>\n",
       "    </tr>\n",
       "    <tr>\n",
       "      <th>2</th>\n",
       "      <td>1</td>\n",
       "    </tr>\n",
       "    <tr>\n",
       "      <th>3</th>\n",
       "      <td>0</td>\n",
       "    </tr>\n",
       "    <tr>\n",
       "      <th>4</th>\n",
       "      <td>0</td>\n",
       "    </tr>\n",
       "  </tbody>\n",
       "</table>\n",
       "</div>"
      ],
      "text/plain": [
       "   0\n",
       "0  1\n",
       "1  1\n",
       "2  1\n",
       "3  0\n",
       "4  0"
      ]
     },
     "execution_count": 52,
     "metadata": {},
     "output_type": "execute_result"
    }
   ],
   "source": [
    "outputData1.head()"
   ]
  },
  {
   "cell_type": "code",
   "execution_count": 53,
   "metadata": {},
   "outputs": [
    {
     "data": {
      "text/plain": [
       "<matplotlib.collections.PathCollection at 0x1a2dd6e3250>"
      ]
     },
     "execution_count": 53,
     "metadata": {},
     "output_type": "execute_result"
    },
    {
     "data": {
      "image/png": "[encoded data removed]",
      "text/plain": [
       "<Figure size 432x288 with 1 Axes>"
      ]
     },
     "metadata": {
      "needs_background": "light"
     },
     "output_type": "display_data"
    }
   ],
   "source": [
    "plt.scatter(inputData[0], inputData[1], c = outputData1)"
   ]
  },
  {
   "cell_type": "code",
   "execution_count": 54,
   "metadata": {},
   "outputs": [
    {
     "data": {
      "text/plain": [
       "KMeans(n_clusters=5)"
      ]
     },
     "execution_count": 54,
     "metadata": {},
     "output_type": "execute_result"
    }
   ],
   "source": [
    "\n",
    "\n",
    "\n",
    "model = KMeans(n_clusters=5)\n",
    "model.fit(inputData)"
   ]
  },
  {
   "cell_type": "code",
   "execution_count": 55,
   "metadata": {},
   "outputs": [
    {
     "data": {
      "text/plain": [
       "array([2, 2, 3, 0, 0, 4, 4, 2, 0, 2, 4, 0, 4, 0, 1, 0, 3, 2, 2, 1, 0, 0,\n",
       "       0, 3, 1, 0, 2, 1, 3, 3, 3, 2, 0, 2, 3, 2, 3, 0, 4, 4, 1, 0, 2, 1,\n",
       "       3, 4, 4, 4, 3, 0, 2, 1, 0, 2, 3, 1, 3, 3, 4, 0, 3, 1, 3, 1, 3, 2,\n",
       "       3, 1, 0, 4, 2, 0, 2, 2, 4, 1, 2, 3, 4, 1, 3, 4, 0, 2, 1])"
      ]
     },
     "execution_count": 55,
     "metadata": {},
     "output_type": "execute_result"
    }
   ],
   "source": [
    "model.labels_"
   ]
  },
  {
   "cell_type": "code",
   "execution_count": 56,
   "metadata": {},
   "outputs": [
    {
     "data": {
      "text/plain": [
       "0.4695109004793659"
      ]
     },
     "execution_count": 56,
     "metadata": {},
     "output_type": "execute_result"
    }
   ],
   "source": [
    "metrics.silhouette_score(inputData, model.labels_)"
   ]
  },
  {
   "cell_type": "code",
   "execution_count": 57,
   "metadata": {},
   "outputs": [
    {
     "data": {
      "text/plain": [
       "<matplotlib.collections.PathCollection at 0x1a2de70ca30>"
      ]
     },
     "execution_count": 57,
     "metadata": {},
     "output_type": "execute_result"
    },
    {
     "data": {
      "image/png": "[encoded data removed]",
      "text/plain": [
       "<Figure size 432x288 with 1 Axes>"
      ]
     },
     "metadata": {
      "needs_background": "light"
     },
     "output_type": "display_data"
    }
   ],
   "source": [
    "plt.scatter(inputData[0], inputData[1], c = model.labels_)"
   ]
  },
  {
   "cell_type": "code",
   "execution_count": 58,
   "metadata": {},
   "outputs": [],
   "source": [
    "\n",
    "cluster_range = range(1, 20)\n",
    "error_list = []\n",
    "\n",
    "for i in cluster_range:\n",
    "    model = KMeans(n_clusters=i)\n",
    "    model.fit(inputData)\n",
    "    res = model.inertia_\n",
    "    error_list.append(res)"
   ]
  },
  {
   "cell_type": "code",
   "execution_count": 59,
   "metadata": {},
   "outputs": [
    {
     "data": {
      "image/png": "[encoded data removed]",
      "text/plain": [
       "<Figure size 432x288 with 1 Axes>"
      ]
     },
     "metadata": {
      "needs_background": "light"
     },
     "output_type": "display_data"
    }
   ],
   "source": [
    "import matplotlib.pyplot as plt\n",
    "\n",
    "plt.plot(cluster_range, error_list, marker = \"o\", color = \"g\", markersize = 10)\n",
    "plt.xlabel(\"Cluster Range\")\n",
    "plt.ylabel(\"IntraCluster Sum\")\n",
    "plt.title(\"KMeans\")\n",
    "plt.show()"
   ]
  },
  {
   "cell_type": "code",
   "execution_count": null,
   "metadata": {},
   "outputs": [],
   "source": []
  },
  {
   "cell_type": "code",
   "execution_count": null,
   "metadata": {},
   "outputs": [],
   "source": []
  }
 ],
 "metadata": {
  "kernelspec": {
   "display_name": "Python 3",
   "language": "python",
   "name": "python3"
  },
  "language_info": {
   "codemirror_mode": {
    "name": "ipython",
    "version": 3
   },
   "file_extension": ".py",
   "mimetype": "text/x-python",
   "name": "python",
   "nbconvert_exporter": "python",
   "pygments_lexer": "ipython3",
   "version": "3.8.5"
  }
 },
 "nbformat": 4,
 "nbformat_minor": 4
}
